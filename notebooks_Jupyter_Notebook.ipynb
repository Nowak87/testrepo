{
  "metadata": {
    "kernelspec": {
      "name": "python",
      "display_name": "Python (Pyodide)",
      "language": "python"
    },
    "language_info": {
      "codemirror_mode": {
        "name": "python",
        "version": 3
      },
      "file_extension": ".py",
      "mimetype": "text/x-python",
      "name": "python",
      "nbconvert_exporter": "python",
      "pygments_lexer": "ipython3",
      "version": "3.8"
    }
  },
  "nbformat_minor": 4,
  "nbformat": 4,
  "cells": [
    {
      "cell_type": "markdown",
      "source": "<center>\n    <img src=\"https://s3-api.us-geo.objectstorage.softlayer.net/cf-courses-data/CognitiveClass/Logos/organization_logo/organization_logo.png\" width=\"300\" alt=\"cognitiveclass.ai logo\"  />\n</center>\n",
      "metadata": {}
    },
    {
      "cell_type": "markdown",
      "source": "#### Add your code below following the instructions given in the course\n",
      "metadata": {}
    },
    {
      "cell_type": "code",
      "source": "\"My Jupyter Notebook on IBM Watson Studio\"",
      "metadata": {
        "trusted": true
      },
      "execution_count": 1,
      "outputs": [
        {
          "execution_count": 1,
          "output_type": "execute_result",
          "data": {
            "text/plain": "'My Jupyter Notebook on IBM Watson Studio'"
          },
          "metadata": {}
        }
      ]
    },
    {
      "cell_type": "code",
      "source": "\"Piotr Nowak\"",
      "metadata": {
        "trusted": true
      },
      "execution_count": 3,
      "outputs": [
        {
          "execution_count": 3,
          "output_type": "execute_result",
          "data": {
            "text/plain": "'Piotr Nowak'"
          },
          "metadata": {}
        }
      ]
    },
    {
      "cell_type": "code",
      "source": "\"I am interested in data science because enjoy problem-solving and statictical analysis, wich led me to a career in data science.\"",
      "metadata": {
        "tags": [],
        "trusted": true
      },
      "execution_count": 12,
      "outputs": [
        {
          "execution_count": 12,
          "output_type": "execute_result",
          "data": {
            "text/plain": "'I am interested in data science because enjoy problem-solving and statictical analysis, wich led me to a career in data science.'"
          },
          "metadata": {}
        }
      ]
    },
    {
      "cell_type": "code",
      "source": "\"I will do simple math problems\"",
      "metadata": {
        "trusted": true
      },
      "execution_count": 13,
      "outputs": [
        {
          "execution_count": 13,
          "output_type": "execute_result",
          "data": {
            "text/plain": "'I will do simple math problems'"
          },
          "metadata": {}
        }
      ]
    },
    {
      "cell_type": "code",
      "source": "a=3\nb=4\nprint('a + 2 it is', a + 2)\nprint('b - 2 it is', b - 2)",
      "metadata": {
        "trusted": true
      },
      "execution_count": 16,
      "outputs": [
        {
          "name": "stdout",
          "text": "a + 2 it is 5\nb - 2 it is 2\n",
          "output_type": "stream"
        }
      ]
    },
    {
      "cell_type": "code",
      "source": "for i in range(8, 10):\n    for j in range(1, 11):\n        print('{0}  *  {1}  =  {2}'.format(i, j, i*j))\n    print('==============')",
      "metadata": {
        "trusted": true
      },
      "execution_count": 23,
      "outputs": [
        {
          "name": "stdout",
          "text": "8  *  1  =  8\n8  *  2  =  16\n8  *  3  =  24\n8  *  4  =  32\n8  *  5  =  40\n8  *  6  =  48\n8  *  7  =  56\n8  *  8  =  64\n8  *  9  =  72\n8  *  10  =  80\n==============\n9  *  1  =  9\n9  *  2  =  18\n9  *  3  =  27\n9  *  4  =  36\n9  *  5  =  45\n9  *  6  =  54\n9  *  7  =  63\n9  *  8  =  72\n9  *  9  =  81\n9  *  10  =  90\n==============\n",
          "output_type": "stream"
        }
      ]
    },
    {
      "cell_type": "markdown",
      "source": "",
      "metadata": {}
    }
  ]
}